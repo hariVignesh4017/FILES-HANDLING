{
 "cells": [
  {
   "cell_type": "markdown",
   "metadata": {},
   "source": [
    "# File Handling"
   ]
  },
  {
   "cell_type": "markdown",
   "metadata": {},
   "source": [
    "# 1.  What is the difference between interpreted and compiled languages?\n",
    "# Compiled Languages\n",
    "The entire code is translated into machine code before execution.\n",
    "A compiler converts the source code into an executable file.\n",
    "Faster execution since the translation happens once.\n",
    "Examples: C, C++, Rust, Go\n",
    "# Interpreted Languages\n",
    "The code is translated line by line at runtime.\n",
    "An interpreter reads and executes the code without creating a separate executable.\n",
    "Slower execution since it translates while running.\n",
    "Examples: Python, JavaScript, Ruby, PHP"
   ]
  },
  {
   "cell_type": "code",
   "execution_count": 5,
   "metadata": {},
   "outputs": [
    {
     "name": "stdout",
     "output_type": "stream",
     "text": [
      "Cannot divide by zero!\n"
     ]
    }
   ],
   "source": [
    "# 2.  What is exception handling in Python?\n",
    "# Exception handling in Python is a way to handle runtime errors and prevent a program from crashing. It allows you to catch errors, take appropriate action, and continue execution.\n",
    "\n",
    "try:\n",
    "    # Code that may raise an exception\n",
    "    x = 10 / 0  # This will cause a ZeroDivisionError\n",
    "except ZeroDivisionError:\n",
    "    print(\"Cannot divide by zero!\")"
   ]
  },
  {
   "cell_type": "markdown",
   "metadata": {},
   "source": [
    "# 3.  What is the purpose of the finally block in exception handling?\n",
    "\n",
    "The finally block in Python is used to execute code regardless of whether an exception occurs or not. It ensures that certain important tasks (like closing files or releasing resources) are always performed."
   ]
  },
  {
   "cell_type": "markdown",
   "metadata": {},
   "source": [
    "# 4. What is logging in Python?\n",
    "Logging in Python is used to track events, errors, and debug information while a program runs. It helps developers monitor, debug, and maintain applications efficiently."
   ]
  },
  {
   "cell_type": "markdown",
   "metadata": {},
   "source": [
    "# 5. What is the significance of the __del__ method in Python?\n",
    "The __del__ method in Python is a destructor that is automatically called when an object is deleted or goes out of scope. It is used for cleaning up resources (e.g., closing files, releasing memory)."
   ]
  },
  {
   "cell_type": "markdown",
   "metadata": {},
   "source": [
    "# 6. What is the difference between import and from ... import in Python?\n",
    "In Python, both import and from ... import are used to bring external modules or specific components of modules into your script, but they work differently:\n",
    "# import module\n",
    "Imports the entire module.\n",
    "You must use the module name as a prefix when accessing its functions or variables.\n",
    "\n",
    "# from module import item\n",
    "Imports only specific attributes (functions, classes, or variables) from a module.\n",
    "You can use the imported item directly without the module prefix.\n"
   ]
  },
  {
   "cell_type": "markdown",
   "metadata": {},
   "source": [
    "# 7. How can you handle multiple exceptions in Python?\n",
    "In Python, you can handle multiple exceptions using several techniques:\n",
    "\n",
    "1. Using a Tuple in except\n",
    "You can catch multiple exceptions in a single except block by enclosing them in a tuple.\n",
    "2. Using Multiple except Blocks\n",
    "If you want to handle different exceptions differently, use separate except blocks.\n",
    "3. Using except Exception as e (Generic Catch)\n",
    "If you’re unsure about the type of exception, you can catch all exceptions using Exception.\n",
    "4. Using finally for Cleanup\n",
    "The finally block executes regardless of whether an exception occurs.\n",
    "5. Using else with try-except\n",
    "The else block runs only if no exceptions occur."
   ]
  },
  {
   "cell_type": "markdown",
   "metadata": {},
   "source": [
    "# 8. What is the purpose of the with statement when handling files in Python?\n",
    "The with statement in Python is used for resource management, especially when handling files. It ensures that resources, like file handles, are properly cleaned up after use, even if an error occurs.\n",
    "\n",
    "Key Benefits of Using with for File Handling:\n",
    "Automatic Resource Cleanup\n",
    "\n",
    "No need to explicitly close the file (.close() is called automatically).\n",
    "Exception Safety\n",
    "\n",
    "Ensures proper handling of exceptions without leaving the file open.\n",
    "More Readable and Concise Code\n",
    "\n",
    "Reduces boilerplate code compared to manually opening and closing files.\n"
   ]
  },
  {
   "cell_type": "markdown",
   "metadata": {},
   "source": [
    "# 9. What is the difference between multithreading and multiprocessing?\n",
    "Both multithreading and multiprocessing are used to achieve parallelism, but they work in different ways.\n",
    "# multithreading\n",
    "Runs multiple threads within the same process\n",
    "I/O-bound tasks (e.g., file I/O, network requests)\n",
    "Uses concurrent execution (threads share memory)\t\n",
    "Low (threads share memory)\t\n",
    "# multiprocessing\n",
    "CPU-bound tasks (e.g., heavy computations, number crunching)\n",
    "Runs multiple processes, each with its own memory space\n",
    "Uses true parallelism (each process runs separately)\n",
    "High (each process has separate memory)\n"
   ]
  },
  {
   "cell_type": "markdown",
   "metadata": {},
   "source": [
    "# 10. What are the advantages of using logging in a program?\n",
    "Logging is an essential tool for monitoring and debugging applications. Instead of using print() statements, logging provides a more flexible and structured way to track events. Here are the key advantages:\n",
    "Better Debugging & Issue Tracking:\n",
    "Logging helps track errors and issues in a structured way, making debugging easier.\n",
    "Helps in Production Monitoring:\n",
    "Logging allows developers to monitor an application in real time without disrupting its execution.\n",
    "Persistent Record Keeping:\n",
    "Logs can be stored in files, making it easy to review past events.\n",
    "Easier Troubleshooting & Maintenance \n",
    "Logs provide insights into how a program is running, helping identify bugs quickly.\n",
    "Configurable & Scalable \n",
    "Unlike print(), logging can be customized to log at different levels, formats, and destinations (console, file, database).\n",
    "Multi-threading & Multi-process Support.\n",
    "Logging works well in multi-threaded and multi-process applications, where print() might not capture output correctly."
   ]
  },
  {
   "cell_type": "markdown",
   "metadata": {},
   "source": [
    "# 11.  What is memory management in Python?\n",
    "Memory Management in Python \n",
    "Memory management in Python refers to how Python allocates, uses, and frees memory automatically. Python uses a private heap space, meaning all objects and data structures are stored in a managed memory pool."
   ]
  },
  {
   "cell_type": "markdown",
   "metadata": {},
   "source": [
    "# 12.  What are the basic steps involved in exception handling in Python?\n",
    "Basic Steps in Exception Handling in Python \n",
    "Exception handling allows you to gracefully handle runtime errors without crashing the program. Python provides a structured way to catch and handle exceptions using try-except.\n",
    "try:\n",
    "    num = int(input(\"Enter a number: \"))\n",
    "    print(10 / num)\n",
    "except ValueError:\n",
    "    print(\"Invalid input! Please enter a number.\")\n",
    "except ZeroDivisionError:\n",
    "    print(\"Cannot divide by zero!\")  # Handles division by zero"
   ]
  },
  {
   "cell_type": "markdown",
   "metadata": {},
   "source": [
    "# 13. Why is memory management important in Python?\n",
    "Memory management is important in Python because it ensures efficient allocation, use, and release of memory, which helps maintain performance and prevents issues like memory leaks and excessive memory consumption.\n",
    " Automatic Garbage Collection\n",
    " Efficient Memory Allocation\n",
    " Prevention of Memory Leaks\n",
    " Performance Optimization"
   ]
  },
  {
   "cell_type": "markdown",
   "metadata": {},
   "source": [
    "# 14. What is the role of try and except in exception handling?\n",
    "The try and except blocks in Python play a crucial role in exception handling, allowing a program to catch and handle errors gracefully without crashing. Here’s how they work:\n",
    "1. try Block (Code Execution Attempt)\n",
    "The try block contains the code that might raise an exception.\n",
    "If no error occurs, the except block is skipped.\n",
    "If an error occurs, Python immediately stops execution in the try block and looks for a matching except.\n",
    "\n",
    "2. except Block (Handling the Exception)\n",
    "The except block catches the exception and provides a way to handle it.\n",
    "Different exception types can be handled separately.\n",
    "\n",
    "\n"
   ]
  },
  {
   "cell_type": "markdown",
   "metadata": {},
   "source": [
    "# 15.  How does Python's garbage collection system work?\n",
    "How Python’s Garbage Collection Works\n",
    "Python’s garbage collection (GC) system automatically manages memory by reclaiming unused objects, preventing memory leaks, and optimizing performance. It consists of two main mechanisms\n",
    "Reference Counting\n",
    "Every Python object has an associated reference count that tracks how many variables refer to it.\n",
    "When the reference count drops to zero, Python immediately deallocates the object.\n",
    "Cyclic Garbage Collection (Generational GC)\n",
    "Python’s gc module periodically scans objects and removes cyclic references that reference counting alone can’t free."
   ]
  },
  {
   "cell_type": "markdown",
   "metadata": {},
   "source": [
    "# 16.  What is the purpose of the else block in exception handling?\n",
    "The else block in Python's exception handling is an optional part of the try and except structure. Its purpose is to specify code that should be executed if no exceptions are raised in the try block. Essentially, it allows you to separate code that runs when everything goes smoothly from code that handles errors."
   ]
  },
  {
   "cell_type": "markdown",
   "metadata": {},
   "source": [
    "# 17. What are the common logging levels in Python?\n",
    "In Python, the logging module provides a flexible framework for logging messages at different severity levels. These levels help categorize the importance of messages, making it easier to manage and filter logs during development or production. The common logging levels, in increasing order of severity, are:\n",
    "1. DEBUG\n",
    "Purpose: Used for detailed diagnostic information, typically useful during development.\n",
    "Use case: You might log detailed system state, variable values, or function calls to help troubleshoot issues during development.\n",
    "2. INFO\n",
    "Purpose: Used for general information about program execution, often to confirm that things are working as expected.\n",
    "Use case: Logging key milestones, configurations, or any important, non-error information\n",
    "Level value: logging.INFO (numeric value: 20)\n",
    "3. WARNING\n",
    "Purpose: Indicates that something unexpected occurred, but the program is still running fine.\n",
    "Use case: Log warnings when something is not ideal but not necessarily a problem (e.g., deprecated features, minor issues).\n",
    "Level value: logging.WARNING (numeric value: 30)\n",
    "4. ERROR\n",
    "Purpose: Used when a serious issue occurs, but the program can still continue to run.\n",
    "Use case: Log errors that indicate a failure or malfunction that doesn’t necessarily stop the entire program (e.g., failed API calls).\n",
    "Level value: logging.ERROR (numeric value: 40)\n",
    "\n"
   ]
  },
  {
   "cell_type": "markdown",
   "metadata": {},
   "source": [
    "# 18. What is the difference between os.fork() and multiprocessing in Python?\n",
    "# 1. os.fork()\n",
    "System Call: os.fork() is a low-level function that is available in Unix-like systems (Linux, macOS, etc.), but not in Windows.\n",
    "Forking: It creates a child process by duplicating the parent process. The child process gets an exact copy of the parent’s memory, file descriptors, etc.\n",
    "Return Values:\n",
    "In the parent process, os.fork() returns the PID (Process ID) of the child.\n",
    "In the child process, os.fork() returns 0.\n",
    "Use Case: This is a direct and lower-level way to spawn processes, commonly used in operating system-level programming or custom process management.\n",
    "# 2. multiprocessing Module\n",
    "Higher-Level Abstraction: The multiprocessing module provides a higher-level API for creating and managing processes and is cross-platform (works on both Unix-based systems and Windows).\n",
    "Process Creation: Instead of using os.fork(), multiprocessing uses the Process class to create separate processes.\n",
    "Communication & Synchronization: It offers built-in tools for inter-process communication (IPC), such as Queue, Pipe, and synchronization mechanisms like Lock, Event, etc.\n",
    "Process Management: The multiprocessing module handles many aspects of process management for you, including safely creating and terminating processes and managing shared memory.\n",
    "Cross-Platform: Unlike os.fork(), the multiprocessing module works on both Unix-based and Windows systems, using platform-specific methods for process creation (e.g., fork on Unix, spawn on Windows)"
   ]
  },
  {
   "cell_type": "markdown",
   "metadata": {},
   "source": [
    "# 19. What is the importance of closing a file in Python?\n",
    "Closing a file in Python is crucial for proper resource management and ensuring that the file operations are completed correctly. Here are the key reasons why closing a file is important:\n",
    "\n",
    "1. Resource Management\n",
    "System Resources: Every time you open a file, the operating system allocates system resources (like file descriptors). If you don’t close the file, those resources are not released.\n",
    "File Descriptors: On most systems, there’s a limit to the number of file descriptors that can be open at the same time. If files are not closed, you might run into an issue where your program cannot open new files because the file descriptor limit is reached.\n",
    "2. Ensuring Data is Written\n",
    "When you open a file in write mode ('w', 'a', etc.), the data may not immediately be written to disk. Python uses buffering for efficiency, meaning it temporarily stores data in memory before writing it to the disk.\n",
    "Closing the file ensures that all the buffered data is properly written to the file. If the file is not closed, some data might not be saved, leading to incomplete files or data loss.\n",
    "3. Avoiding File Corruption\n",
    "Not closing a file properly can leave it in an inconsistent or corrupted state, especially for files that are being written to. In cases where multiple programs or processes are accessing the file, not closing it can cause conflicts or corruption.\n",
    "4. Safe and Clean Code\n",
    "Explicit File Closing: When you close a file explicitly with file.close(), it makes the intent clear that you’re done using the file. This makes your code more readable and reliable.\n",
    "Resource Leaks: Failing to close files can lead to resource leaks, where your program keeps consuming system resources without releasing them.\n",
    "5. With Statement (Context Manager)\n",
    "To make sure files are always closed properly, even if an error occurs, Python provides the with statement (context manager). The with statement automatically handles opening and closing the file, so you don’t have to explicitly call close(). This is the recommended approach for file handling."
   ]
  },
  {
   "cell_type": "markdown",
   "metadata": {},
   "source": [
    "# 20.  What is the difference between file.read() and file.readline() in Python?\n",
    "In Python, both file.read() and file.readline() are used to read data from a file, but they have key differences in how they operate. Here’s a comparison:\n",
    "1. file.read()\n",
    "Purpose: Reads the entire content of the file (or a specified number of bytes).\n",
    "Behavior:\n",
    "If no argument is passed, file.read() reads the entire file as a single string.\n",
    "You can also specify the number of bytes to read by passing an argument, like file.read(5) to read the first 5 bytes/characters.\n",
    "Reads all content at once and returns a single string.\n",
    "The file pointer is moved to the end of the file after reading.\n",
    "Use case: Suitable for small to medium-sized files where you want to load the whole content into memory at once, or for reading a specific chunk.\n",
    "2. file.readline()\n",
    "Purpose: Reads one line at a time from the file.\n",
    "Behavior:\n",
    "file.readline() reads a single line (including the newline character \\n) from the file.\n",
    "The file pointer moves to the next line after each read.\n",
    "If you call readline() multiple times, it will read the next lines one by one.\n",
    "If the file has multiple lines, it allows you to process the file line by line without loading the entire file into memory at once.\n",
    "Use case: Ideal for processing large files line by line, or when you need to process one line at a time (e.g., for log files or CSV files)."
   ]
  },
  {
   "cell_type": "markdown",
   "metadata": {},
   "source": [
    "# 21. What is the logging module in Python used for?\n",
    "The logging module in Python is used for generating log messages that record the behavior of a program. These log messages help you monitor, debug, and troubleshoot your application by providing detailed information about what is happening during execution.\n",
    "Key Purposes of the logging Module:\n",
    "Tracking Program Behavior:\n",
    "Log messages allow you to trace how your program is behaving at different stages, such as when certain functions are called, when specific conditions are met, or when certain tasks are completed.\n",
    "Debugging and Troubleshooting:\n",
    "During development, logging is invaluable for identifying issues like bugs, errors, and performance bottlenecks. By including various levels of logs, you can easily track down problems.\n",
    "Monitoring Production Applications:\n",
    "In production environments, logs help in monitoring the health and performance of your application. They allow you to detect failures, exceptions, or unexpected behavior and respond accordingly.\n",
    "Audit Trails:\n",
    "Logs can provide an audit trail for compliance and security reasons. They can record critical events such as user activity, system errors, and other significant actions.\n"
   ]
  },
  {
   "cell_type": "markdown",
   "metadata": {},
   "source": [
    "# 22. What is the os module in Python used for in file handling?\n",
    "The os module in Python provides a way to interact with the operating system, and it includes various functions that are commonly used in file handling tasks. It allows you to manage files and directories, manipulate file paths, and perform other system-level operations in a platform-independent way.\n",
    "Key Functions of the os Module in File Handling\n",
    "Here are some common functions in the os module that are specifically useful for working with files and directories:\n",
    "1. os.open()\n",
    "This function is used to open a file and return a file descriptor (low-level file handle).\n",
    "Unlike open() (which returns a file object), os.open() is lower-level and works with file descriptors directly.\n",
    "2.os.remove()\n",
    "Deletes a specified file.\n",
    "3. os.rename()\n",
    "Renames a file or moves it to a different location.\n",
    "4. os.rmdir()\n",
    "Removes an empty directory.\n",
    "5. os.mkdir() and os.makedirs()\n",
    "os.mkdir() creates a single directory.\n",
    "os.makedirs() creates intermediate directories if they do not exist."
   ]
  },
  {
   "cell_type": "markdown",
   "metadata": {},
   "source": [
    "# 23. What are the challenges associated with memory management in Python?\n",
    "Memory management in Python can be a bit tricky and comes with several challenges due to the language's design and features. Here are the main challenges associated with memory management in Python:\n",
    "1. Automatic Garbage Collection\n",
    "2. Reference Counting and Memory Leaks\n",
    "3. Memory Fragmentation\n",
    "4. Large Objects and High Memory Consumption\n",
    "5.The Global Interpreter Lock (GIL) and Memory Management"
   ]
  },
  {
   "cell_type": "markdown",
   "metadata": {},
   "source": [
    "# 24.  How do you raise an exception manually in Python?\n",
    "In Python, you can raise an exception manually using the raise keyword. This is useful when you want to indicate an error condition or enforce certain constraints in your code. You can raise built-in exceptions or even custom exceptions that you define.\n",
    "Raising Built-in Exceptions\n",
    "To raise a built-in exception, you can simply specify the exception type followed by an optional error message."
   ]
  },
  {
   "cell_type": "markdown",
   "metadata": {},
   "source": [
    "# 25. Why is it important to use multithreading in certain applications?\n",
    "Multithreading can significantly improve the performance and efficiency of certain applications by allowing them to run multiple tasks concurrently. Here are the main reasons why multithreading is important in some applications:\n",
    "1. Improved Responsiveness in User Interfaces\n",
    "2. Parallelism for CPU-Bound Tasks\n",
    "3. Concurrency in I/O-Bound Operations\n",
    "4. Better Resource Utilization\n",
    "5. Simplifying Complex Applications\n",
    "6. Background Tasks and Asynchronous Operations"
   ]
  },
  {
   "cell_type": "markdown",
   "metadata": {},
   "source": [
    "# PRACTICAL QUESTIONS"
   ]
  },
  {
   "cell_type": "code",
   "execution_count": 1,
   "metadata": {},
   "outputs": [
    {
     "name": "stdout",
     "output_type": "stream",
     "text": [
      "This is a new day\n"
     ]
    }
   ],
   "source": [
    "# 1 How can you open a file for writing in Python and write a string to it?\n",
    "\n",
    "\n",
    "with open('example.txt', 'w') as file:\n",
    "    file.write(\"Hello, world! This is a test string.\\n\")\n",
    "    print(\"This is a new day\")"
   ]
  },
  {
   "cell_type": "code",
   "execution_count": 2,
   "metadata": {},
   "outputs": [
    {
     "name": "stdout",
     "output_type": "stream",
     "text": [
      "Hello, world! This is a test string.\n",
      " "
     ]
    }
   ],
   "source": [
    "#2 Write a Python program to read the contents of a file and print each line\n",
    "\n",
    "with open('example.txt', 'r') as file:\n",
    "    for line in file:\n",
    "        print(line, end=\" \")"
   ]
  },
  {
   "cell_type": "code",
   "execution_count": 3,
   "metadata": {},
   "outputs": [
    {
     "name": "stdout",
     "output_type": "stream",
     "text": [
      "Error: The file 'non_existent_file.txt' does not exist.\n"
     ]
    }
   ],
   "source": [
    " #3  How would you handle a case where the file doesn't exist while trying to open it for reading\n",
    "\n",
    "def read_file(file_path):\n",
    "    try:\n",
    "        with open(file_path, 'r') as file:\n",
    "            content = file.read()\n",
    "            print(content)\n",
    "    except FileNotFoundError:\n",
    "        print(f\"Error: The file '{file_path}' does not exist.\")\n",
    "    except IOError:\n",
    "        print(f\"Error: An unexpected I/O error occurred while accessing '{file_path}'.\")\n",
    "file_path = 'non_existent_file.txt'\n",
    "read_file(file_path)"
   ]
  },
  {
   "cell_type": "code",
   "execution_count": null,
   "metadata": {},
   "outputs": [],
   "source": [
    "# 4 Write a Python script that reads from one file and writes its content to another file\n",
    "\n",
    "try:\n",
    "    with open('source.txt', 'r') as source_file:\n",
    "        with open('destination.txt', 'w') as destination_file:\n",
    "            content = source_file.read()\n",
    "            destination_file.write(content)\n",
    "    print(\"Content has been copied successfully.\")\n",
    "\n",
    "except FileNotFoundError:\n",
    "    print(\"Error: One of the files doesn't exist.\")\n",
    "except IOError as e:\n",
    "    print(f\"An error occurred: {e}\")\n",
    "source_file = 'source.txt'\n",
    "destination_file = 'destination.txt'\n",
    "copy_file_content(source_file, destination_file)"
   ]
  },
  {
   "cell_type": "code",
   "execution_count": 4,
   "metadata": {},
   "outputs": [
    {
     "name": "stdout",
     "output_type": "stream",
     "text": [
      "Error: Cannot divide by zero!\n"
     ]
    }
   ],
   "source": [
    "#5 How would you catch and handle division by zero error in Python\n",
    "\n",
    "try:\n",
    "    numerator = 10\n",
    "    denominator = 0\n",
    "    result = numerator / denominator\n",
    "    print(f\"Result: {result}\")\n",
    "\n",
    "except ZeroDivisionError:\n",
    "    print(\"Error: Cannot divide by zero!\")"
   ]
  },
  {
   "cell_type": "code",
   "execution_count": 5,
   "metadata": {},
   "outputs": [
    {
     "name": "stdout",
     "output_type": "stream",
     "text": [
      "Error: Cannot divide by zero! The error has been logged.\n"
     ]
    }
   ],
   "source": [
    "# 6  Write a Python program that logs an error message to a log file when a division by zero exception occurs\n",
    "\n",
    "import logging\n",
    "logging.basicConfig(filename='error_log.txt',\n",
    "                    level=logging.ERROR,\n",
    "                    format='%(asctime)s - %(levelname)s - %(message)s')\n",
    "\n",
    "try:\n",
    "    numerator = 10\n",
    "    denominator = 0\n",
    "    result = numerator / denominator\n",
    "    print(f\"Result: {result}\")\n",
    "\n",
    "except ZeroDivisionError as e:\n",
    "    logging.error(f\"Division by zero error: {e}\")\n",
    "    print(\"Error: Cannot divide by zero! The error has been logged.\")"
   ]
  },
  {
   "cell_type": "code",
   "execution_count": 10,
   "metadata": {},
   "outputs": [],
   "source": [
    "# 7 How do you log information at different levels (INFO, ERROR, WARNING) in Python using the logging module\n",
    "import logging\n",
    "logging.basicConfig(filename='app.log',\n",
    "                    level=logging.DEBUG,  # Minimum level to log\n",
    "                    format='%(asctime)s - %(levelname)s - %(message)s')\n",
    "logging.debug(\"This is a debug message.\")\n",
    "logging.info(\"This is an informational message.\")\n",
    "logging.warning(\"This is a warning message.\")\n",
    "logging.error(\"This is an error message.\")\n",
    "logging.critical(\"This is a critical error message.\")"
   ]
  },
  {
   "cell_type": "code",
   "execution_count": 6,
   "metadata": {},
   "outputs": [
    {
     "name": "stdout",
     "output_type": "stream",
     "text": [
      "File content:\n",
      "Hello, world! This is a test string.\n",
      "\n"
     ]
    }
   ],
   "source": [
    "# 8 Write a program to handle a file opening error using exception handling\n",
    "def open_file(file_path):\n",
    "    try:\n",
    "        with open(file_path, 'r') as file:\n",
    "            content = file.read()\n",
    "            print(\"File content:\")\n",
    "            print(content)\n",
    "\n",
    "    except FileNotFoundError:\n",
    "        print(f\"Error: The file '{file_path}' was not found.\")\n",
    "\n",
    "    except PermissionError:\n",
    "        print(f\"Error: You do not have permission to open the file '{file_path}'.\")\n",
    "\n",
    "    except IOError as e:\n",
    "        print(f\"Error: An unexpected I/O error occurred: {str(e)}\")\n",
    "file_path = 'example.txt'\n",
    "open_file(file_path)\n"
   ]
  },
  {
   "cell_type": "code",
   "execution_count": 9,
   "metadata": {},
   "outputs": [
    {
     "name": "stdout",
     "output_type": "stream",
     "text": [
      "['Hello, world! This is a test string.\\n']\n"
     ]
    }
   ],
   "source": [
    "#9  How can you read a file line by line and store its content in a list in Python\n",
    "\n",
    "try:\n",
    "    with open('example.txt', 'r') as file:\n",
    "        lines = file.readlines()\n",
    "    print(lines)\n",
    "\n",
    "except FileNotFoundError:\n",
    "    print(\"Error: The file 'example.txt' does not exist.\")\n"
   ]
  },
  {
   "cell_type": "code",
   "execution_count": 16,
   "metadata": {},
   "outputs": [
    {
     "name": "stdout",
     "output_type": "stream",
     "text": [
      "Data has been appended to the file.\n"
     ]
    }
   ],
   "source": [
    "# 10  How can you append data to an existing file in Python\n",
    "\n",
    "try:\n",
    "    with open('example.txt', 'a') as file:\n",
    "        file.write(\"This is the new line of text that is appended.\\n\")\n",
    "        print(\"Data has been appended to the file.\")\n",
    "except Exception as e:\n",
    "    print(f\"Error: {e}\")"
   ]
  },
  {
   "cell_type": "code",
   "execution_count": 14,
   "metadata": {},
   "outputs": [
    {
     "name": "stdout",
     "output_type": "stream",
     "text": [
      "Error: The key 'address' does not exist in the dictionary.\n"
     ]
    }
   ],
   "source": [
    "\n",
    "#11 Write a Python program that uses a try-except block to handle an error when attempting to access a dictionary key that doesn't exist\n",
    "my_dict = {'name': 'Neha','age': 22}\n",
    "try:\n",
    "    value = my_dict['address']\n",
    "    print(f\"Address: {value}\")\n",
    "except KeyError:\n",
    "    print(\"Error: The key 'address' does not exist in the dictionary.\")"
   ]
  },
  {
   "cell_type": "code",
   "execution_count": 15,
   "metadata": {},
   "outputs": [
    {
     "name": "stdout",
     "output_type": "stream",
     "text": [
      "Error: Cannot divide by zero!\n",
      "Error: Invalid input! Cannot convert string to integer.\n",
      "Error: The file does not exist.\n"
     ]
    }
   ],
   "source": [
    "#12  Write a program that demonstrates using multiple except blocks to handle different types of exceptions\n",
    "\n",
    "def demo_multiple_exceptions():\n",
    "    try:\n",
    "        num = 10\n",
    "        denom = 0\n",
    "        result = num / denom\n",
    "        print(f\"Result of division: {result}\")\n",
    "\n",
    "    except ZeroDivisionError:\n",
    "        print(\"Error: Cannot divide by zero!\")\n",
    "\n",
    "    try:\n",
    "        invalid_int = int(\"abc\")\n",
    "        print(f\"Converted integer: {invalid_int}\")\n",
    "\n",
    "    except ValueError:\n",
    "        print(\"Error: Invalid input! Cannot convert string to integer.\")\n",
    "\n",
    "    try:\n",
    "        with open('non_existent_file.txt', 'r') as file:\n",
    "            content = file.read()\n",
    "            print(content)\n",
    "\n",
    "    except FileNotFoundError:\n",
    "        print(\"Error: The file does not exist.\")\n",
    "demo_multiple_exceptions()\n"
   ]
  },
  {
   "cell_type": "code",
   "execution_count": 17,
   "metadata": {},
   "outputs": [
    {
     "name": "stdout",
     "output_type": "stream",
     "text": [
      "Hello, world! This is a test string.\n",
      "This is the new line of text that is appended.\n",
      "\n"
     ]
    }
   ],
   "source": [
    "#13 How would you check if a file exists before attempting to read it in Python\n",
    "import os\n",
    "\n",
    "# File path to check\n",
    "file_path = 'example.txt'\n",
    "\n",
    "# Check if the file exists\n",
    "if os.path.exists(file_path):\n",
    "    with open(file_path, 'r') as file:\n",
    "        content = file.read()\n",
    "        print(content)\n",
    "else:\n",
    "    print(f\"Error: The file '{file_path}' does not exist.\")"
   ]
  },
  {
   "cell_type": "code",
   "execution_count": 35,
   "metadata": {},
   "outputs": [],
   "source": [
    "# 14 Write a program that uses the logging module to log both informational and error messages\n",
    "import logging\n",
    "\n",
    "# Configure logging\n",
    "logging.basicConfig(\n",
    "    filename=\"app.log\",  # Log file\n",
    "    level=logging.DEBUG,  # Logging level\n",
    "    format=\"%(asctime)s - %(levelname)s - %(message)s\",\n",
    ")\n",
    "\n",
    "def divide(a, b):\n",
    "    try:\n",
    "        logging.info(f\"Attempting to divide {a} by {b}\")\n",
    "        result = a / b\n",
    "        logging.info(f\"Division successful: {result}\")\n",
    "        return result\n",
    "    except ZeroDivisionError:\n",
    "        logging.error(\"Error: Division by zero attempted!\", exc_info=True)\n",
    "        return None\n",
    "\n",
    "if __name__ == \"__main__\":\n",
    "    logging.info(\"Program started\")\n",
    "    \n",
    "    divide(10, 2)  # Should log an info message\n",
    "    divide(5, 0)   # Should log an error message\n",
    "\n",
    "    logging.info(\"Program finished\")\n"
   ]
  },
  {
   "cell_type": "code",
   "execution_count": 18,
   "metadata": {},
   "outputs": [
    {
     "name": "stdout",
     "output_type": "stream",
     "text": [
      "File Content:\n",
      "Hello, world! This is a test string.\n",
      "This is the new line of text that is appended.\n",
      "\n"
     ]
    }
   ],
   "source": [
    "#15  Write a Python program that prints the content of a file and handles the case when the file is empty\n",
    "\n",
    "def print_file_content(file_path):\n",
    "    try:\n",
    "        with open(file_path, 'r') as file:\n",
    "            content = file.read()\n",
    "            if not content:\n",
    "                print(\"The file is empty.\")\n",
    "            else:\n",
    "                print(\"File Content:\")\n",
    "                print(content)\n",
    "\n",
    "    except FileNotFoundError:\n",
    "        print(f\"Error: The file '{file_path}' does not exist.\")\n",
    "    except IOError:\n",
    "        print(\"Error: An unexpected I/O error occurred.\")\n",
    "file_path = 'example.txt'\n",
    "print_file_content(file_path)\n"
   ]
  },
  {
   "cell_type": "code",
   "execution_count": 34,
   "metadata": {},
   "outputs": [
    {
     "name": "stdout",
     "output_type": "stream",
     "text": [
      "C:\\Users\\Hari Vignesh\\AppData\\Local\\Temp\\ipykernel_7140\\3882372166.py:6: size=3907 KiB, count=99984, average=40 B\n",
      "C:\\Users\\Hari Vignesh\\AppData\\Roaming\\Python\\Python313\\site-packages\\traitlets\\traitlets.py:731: size=131 B, count=2, average=66 B\n",
      "C:\\Users\\Hari Vignesh\\AppData\\Roaming\\Python\\Python313\\site-packages\\traitlets\\traitlets.py:1514: size=120 B, count=1, average=120 B\n",
      "c:\\Users\\Hari Vignesh\\AppData\\Local\\Programs\\Python\\Python313\\Lib\\threading.py:656: size=64 B, count=1, average=64 B\n",
      "C:\\Users\\Hari Vignesh\\AppData\\Roaming\\Python\\Python313\\site-packages\\traitlets\\traitlets.py:1543: size=64 B, count=1, average=64 B\n"
     ]
    }
   ],
   "source": [
    "#16  Demonstrate how to use memory profiling to check the memory usage of a small program?\n",
    "import tracemalloc\n",
    "\n",
    "def memory_usage_example():\n",
    "    tracemalloc.start()  # Start tracing memory\n",
    "    data = [i ** 2 for i in range(100000)]  # Create a large list\n",
    "    snapshot = tracemalloc.take_snapshot()  # Capture memory snapshot\n",
    "    tracemalloc.stop()\n",
    "\n",
    "    for stat in snapshot.statistics(\"lineno\")[:5]:  # Print top 5 memory usages\n",
    "        print(stat)\n",
    "\n",
    "if __name__ == \"__main__\":\n",
    "    memory_usage_example()\n"
   ]
  },
  {
   "cell_type": "code",
   "execution_count": 26,
   "metadata": {},
   "outputs": [
    {
     "name": "stdout",
     "output_type": "stream",
     "text": [
      "Numbers successfully written to numbers.txt\n"
     ]
    }
   ],
   "source": [
    "\n",
    "#17  Write a Python program to create and write a list of numbers to a file, one number per line\n",
    "\n",
    "def write_numbers_to_file(file_name, numbers):\n",
    "    try:\n",
    "        # Open the file in write mode\n",
    "        with open(file_name, 'w') as file:\n",
    "            # Write each number to the file, one per line\n",
    "            for number in numbers:\n",
    "                file.write(f\"{number}\\n\")\n",
    "        print(f\"Numbers successfully written to {file_name}\")\n",
    "    except Exception as e:\n",
    "        print(f\"Error: {e}\")\n",
    "\n",
    "# Example list of numbers\n",
    "numbers = [1, 2, 3, 4, 5, 6, 7, 8, 9, 10]\n",
    "\n",
    "# Specify the file name\n",
    "file_name = 'numbers.txt'\n",
    "\n",
    "# Write the list of numbers to the file\n",
    "write_numbers_to_file(file_name, numbers)"
   ]
  },
  {
   "cell_type": "code",
   "execution_count": 25,
   "metadata": {},
   "outputs": [],
   "source": [
    "#18  How would you implement a basic logging setup that logs to a file with rotation after 1MB\n",
    "\n",
    "import logging\n",
    "from logging.handlers import RotatingFileHandler\n",
    "\n",
    "# Set up the logger\n",
    "logger = logging.getLogger('my_logger')\n",
    "logger.setLevel(logging.DEBUG)  # Log all messages at DEBUG level and above\n",
    "\n",
    "# Set up the rotating file handler\n",
    "log_file = 'app.log'\n",
    "max_log_size = 1 * 1024 * 1024  # 1MB\n",
    "backup_count = 3  # Keep 3 backup files (app.log.1, app.log.2, etc.)\n",
    "\n",
    "handler = RotatingFileHandler(log_file, maxBytes=max_log_size, backupCount=backup_count)\n",
    "handler.setLevel(logging.DEBUG)  # Set the log level for this handler\n",
    "\n",
    "# Set up the log format\n",
    "formatter = logging.Formatter('%(asctime)s - %(levelname)s - %(message)s')\n",
    "handler.setFormatter(formatter)\n",
    "\n",
    "# Add the handler to the logger\n",
    "logger.addHandler(handler)\n",
    "\n",
    "# Example of logging messages\n",
    "logger.debug(\"This is a debug message.\")\n",
    "logger.info(\"This is an info message.\")\n",
    "logger.warning(\"This is a warning message.\")\n",
    "logger.error(\"This is an error message.\")\n",
    "logger.critical(\"This is a critical message.\")"
   ]
  },
  {
   "cell_type": "code",
   "execution_count": 27,
   "metadata": {},
   "outputs": [
    {
     "name": "stdout",
     "output_type": "stream",
     "text": [
      "Error: Index out of range in the list.\n"
     ]
    }
   ],
   "source": [
    "# 19  Write a program that handles both IndexError and KeyError using a try-except block\n",
    "\n",
    "def handle_index_and_key_error():\n",
    "    # Example list and dictionary\n",
    "    my_list = [1, 2, 3]\n",
    "    my_dict = {'a': 1, 'b': 2}\n",
    "\n",
    "    try:\n",
    "        # Accessing an invalid index in the list (will raise IndexError)\n",
    "        print(my_list[5])\n",
    "\n",
    "        # Accessing a non-existent key in the dictionary (will raise KeyError)\n",
    "        print(my_dict['c'])\n",
    "\n",
    "    except IndexError:\n",
    "        print(\"Error: Index out of range in the list.\")\n",
    "\n",
    "    except KeyError:\n",
    "        print(\"Error: Key not found in the dictionary.\")\n",
    "\n",
    "# Call the function to test\n",
    "handle_index_and_key_error()"
   ]
  },
  {
   "cell_type": "code",
   "execution_count": 28,
   "metadata": {},
   "outputs": [
    {
     "name": "stdout",
     "output_type": "stream",
     "text": [
      "Hello, world! This is a test string.\n",
      "This is the new line of text that is appended.\n",
      "\n"
     ]
    }
   ],
   "source": [
    "#20  How would you open a file and read its contents using a context manager in Python\n",
    "def read_file(file_path):\n",
    "    try:\n",
    "        # Use a context manager to open the file\n",
    "        with open(file_path, 'r') as file:\n",
    "            # Read the contents of the file\n",
    "            content = file.read()\n",
    "            print(content)\n",
    "    except FileNotFoundError:\n",
    "        print(f\"Error: The file '{file_path}' does not exist.\")\n",
    "    except IOError:\n",
    "        print(f\"Error: An unexpected I/O error occurred while reading the file.\")\n",
    "\n",
    "# Specify the file path\n",
    "file_path = 'example.txt'\n",
    "\n",
    "# Call the function to read the file\n",
    "read_file(file_path)\n"
   ]
  },
  {
   "cell_type": "code",
   "execution_count": 29,
   "metadata": {},
   "outputs": [
    {
     "name": "stdout",
     "output_type": "stream",
     "text": [
      "The word 'python' appears 0 time(s) in the file.\n"
     ]
    }
   ],
   "source": [
    "# 21  Write a Python program that reads a file and prints the number of occurrences of a specific word\n",
    "def count_word_occurrences(file_path, target_word):\n",
    "    try:\n",
    "        # Open the file using a context manager\n",
    "        with open(file_path, 'r') as file:\n",
    "            # Initialize a counter for the occurrences\n",
    "            word_count = 0\n",
    "\n",
    "            # Iterate over each line in the file\n",
    "            for line in file:\n",
    "                # Split the line into words and count occurrences of target_word\n",
    "                word_count += line.lower().split().count(target_word.lower())\n",
    "\n",
    "            # Print the number of occurrences of the target word\n",
    "            print(f\"The word '{target_word}' appears {word_count} time(s) in the file.\")\n",
    "\n",
    "    except FileNotFoundError:\n",
    "        print(f\"Error: The file '{file_path}' does not exist.\")\n",
    "    except IOError:\n",
    "        print(\"Error: An unexpected I/O error occurred.\")\n",
    "\n",
    "# Specify the file path and the target word\n",
    "file_path = 'example.txt'\n",
    "target_word = 'python'\n",
    "\n",
    "# Call the function to count the occurrences of\n",
    "count_word_occurrences(file_path, target_word)"
   ]
  },
  {
   "cell_type": "code",
   "execution_count": 30,
   "metadata": {},
   "outputs": [
    {
     "name": "stdout",
     "output_type": "stream",
     "text": [
      "File content:\n",
      "Hello, world! This is a test string.\n",
      "This is the new line of text that is appended.\n",
      "\n"
     ]
    }
   ],
   "source": [
    "#22  How can you check if a file is empty before attempting to read its content\n",
    "import os\n",
    "\n",
    "def read_file_if_not_empty(file_path):\n",
    "    try:\n",
    "        # Check if the file exists and is not empty\n",
    "        if os.path.exists(file_path) and os.path.getsize(file_path) > 0:\n",
    "            # Open and read the file\n",
    "            with open(file_path, 'r') as file:\n",
    "                content = file.read()\n",
    "                print(\"File content:\")\n",
    "                print(content)\n",
    "        else:\n",
    "            print(\"The file is empty or does not exist.\")\n",
    "\n",
    "    except FileNotFoundError:\n",
    "        print(f\"Error: The file '{file_path}' does not exist.\")\n",
    "    except IOError:\n",
    "        print(\"Error: An unexpected I/O error occurred.\")\n",
    "\n",
    "# Specify the file path\n",
    "file_path = 'example.txt'\n",
    "\n",
    "# Call the function to check and read the file\n",
    "read_file_if_not_empty(file_path)"
   ]
  },
  {
   "cell_type": "code",
   "execution_count": 31,
   "metadata": {},
   "outputs": [
    {
     "name": "stdout",
     "output_type": "stream",
     "text": [
      "Error: The file 'non_existent_file.txt' does not exist.\n",
      "Data written to 'example.txt' successfully.\n"
     ]
    }
   ],
   "source": [
    "#23  Write a Python program that writes to a log file when an error occurs during file handling\n",
    "import logging\n",
    "logging.basicConfig(\n",
    "    filename='file_errors.log',\n",
    "    level=logging.ERROR,\n",
    "    format='%(asctime)s - %(levelname)s - %(message)s'\n",
    "\n",
    ")\n",
    "\n",
    "def read_file(file_path):\n",
    "    try:\n",
    "        with open(file_path, 'r') as file:\n",
    "            content = file.read()\n",
    "            print(content)\n",
    "    except FileNotFoundError:\n",
    "        logging.error(f\"File '{file_path}' not found.\")\n",
    "        print(f\"Error: The file '{file_path}' does not exist.\")\n",
    "    except IOError as e:\n",
    "        logging.error(f\"Error reading file '{file_path}': {e}\")\n",
    "        print(f\"Error: An unexpected I/O error occurred while reading the file.\")\n",
    "\n",
    "def write_to_file(file_path, data):\n",
    "    try:\n",
    "        with open(file_path, 'w') as file:\n",
    "            file.write(data)\n",
    "            print(f\"Data written to '{file_path}' successfully.\")\n",
    "    except IOError as e:\n",
    "        logging.error(f\"Error writing to file '{file_path}': {e}\")\n",
    "        print(f\"Error: Could not write to the file.\")\n",
    "file_path_to_read = 'non_existent_file.txt'\n",
    "file_path_to_write = 'example.txt'\n",
    "read_file(file_path_to_read)\n",
    "write_to_file(file_path_to_write, \"This is a new line of text.\")"
   ]
  },
  {
   "cell_type": "code",
   "execution_count": null,
   "metadata": {},
   "outputs": [],
   "source": []
  }
 ],
 "metadata": {
  "kernelspec": {
   "display_name": "Python 3",
   "language": "python",
   "name": "python3"
  },
  "language_info": {
   "codemirror_mode": {
    "name": "ipython",
    "version": 3
   },
   "file_extension": ".py",
   "mimetype": "text/x-python",
   "name": "python",
   "nbconvert_exporter": "python",
   "pygments_lexer": "ipython3",
   "version": "3.13.1"
  }
 },
 "nbformat": 4,
 "nbformat_minor": 2
}
